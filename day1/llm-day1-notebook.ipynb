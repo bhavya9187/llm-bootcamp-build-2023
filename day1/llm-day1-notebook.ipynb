{
 "cells": [
  {
   "cell_type": "markdown",
   "metadata": {},
   "source": [
    "# BUILD LLM Bootcamp Day 1 "
   ]
  },
  {
   "cell_type": "markdown",
   "metadata": {},
   "source": [
    "Prerequisite: Run the following commands in a terminal window to create a conda environment.\n",
    "\n",
    "<pre>\n",
    "- conda create --name llm-bootcamp -c https://repo.anaconda.com/pkgs/snowflake python=3.9\n",
    "- conda activate llm-bootcamp\n",
    "- conda install -c https://repo.anaconda.com/pkgs/snowflake snowflake-snowpark-python pandas notebook\n",
    "<pre/>\n"
   ]
  },
  {
   "cell_type": "markdown",
   "metadata": {},
   "source": [
    "### Install Libraries"
   ]
  },
  {
   "cell_type": "code",
   "execution_count": 1,
   "metadata": {},
   "outputs": [
    {
     "name": "stdout",
     "output_type": "stream",
     "text": [
      "Requirement already satisfied: snowflake-ml-python==1.0.12 in c:\\users\\hp\\anaconda3\\envs\\llm-bootcamp\\lib\\site-packages (1.0.12)\n",
      "Requirement already satisfied: absl-py<2,>=0.15 in c:\\users\\hp\\anaconda3\\envs\\llm-bootcamp\\lib\\site-packages (from snowflake-ml-python==1.0.12) (1.4.0)\n",
      "Requirement already satisfied: anyio<4,>=3.5.0 in c:\\users\\hp\\anaconda3\\envs\\llm-bootcamp\\lib\\site-packages (from snowflake-ml-python==1.0.12) (3.5.0)\n",
      "Requirement already satisfied: cachetools<5,>=3.1.1 in c:\\users\\hp\\anaconda3\\envs\\llm-bootcamp\\lib\\site-packages (from snowflake-ml-python==1.0.12) (4.2.4)\n",
      "Requirement already satisfied: cloudpickle>=2.0.0 in c:\\users\\hp\\anaconda3\\envs\\llm-bootcamp\\lib\\site-packages (from snowflake-ml-python==1.0.12) (2.0.0)\n",
      "Requirement already satisfied: fsspec<2024,>=2022.11 in c:\\users\\hp\\anaconda3\\envs\\llm-bootcamp\\lib\\site-packages (from fsspec[http]<2024,>=2022.11->snowflake-ml-python==1.0.12) (2023.12.1)\n",
      "Requirement already satisfied: importlib_resources<6,>=5.1.4 in c:\\users\\hp\\anaconda3\\envs\\llm-bootcamp\\lib\\site-packages (from snowflake-ml-python==1.0.12) (5.13.0)\n",
      "Requirement already satisfied: numpy<2,>=1.23 in c:\\users\\hp\\anaconda3\\envs\\llm-bootcamp\\lib\\site-packages (from snowflake-ml-python==1.0.12) (1.26.0)\n",
      "Requirement already satisfied: packaging<24,>=20.9 in c:\\users\\hp\\anaconda3\\envs\\llm-bootcamp\\lib\\site-packages (from snowflake-ml-python==1.0.12) (23.1)\n",
      "Requirement already satisfied: pandas<2,>=1.0.0 in c:\\users\\hp\\anaconda3\\envs\\llm-bootcamp\\lib\\site-packages (from snowflake-ml-python==1.0.12) (1.5.3)\n",
      "Requirement already satisfied: pytimeparse<2,>=1.1.8 in c:\\users\\hp\\anaconda3\\envs\\llm-bootcamp\\lib\\site-packages (from snowflake-ml-python==1.0.12) (1.1.8)\n",
      "Requirement already satisfied: pyyaml<7,>=6.0 in c:\\users\\hp\\anaconda3\\envs\\llm-bootcamp\\lib\\site-packages (from snowflake-ml-python==1.0.12) (6.0.1)\n",
      "Requirement already satisfied: s3fs<2024,>=2022.11 in c:\\users\\hp\\anaconda3\\envs\\llm-bootcamp\\lib\\site-packages (from snowflake-ml-python==1.0.12) (2023.12.1)\n",
      "Requirement already satisfied: scikit-learn<1.4,>=1.2.1 in c:\\users\\hp\\anaconda3\\envs\\llm-bootcamp\\lib\\site-packages (from snowflake-ml-python==1.0.12) (1.3.2)\n",
      "Requirement already satisfied: scipy<2,>=1.9 in c:\\users\\hp\\anaconda3\\envs\\llm-bootcamp\\lib\\site-packages (from snowflake-ml-python==1.0.12) (1.11.4)\n",
      "Requirement already satisfied: snowflake-connector-python<4,>=3.0.4 in c:\\users\\hp\\anaconda3\\envs\\llm-bootcamp\\lib\\site-packages (from snowflake-connector-python[pandas]<4,>=3.0.4->snowflake-ml-python==1.0.12) (3.2.0)\n",
      "Requirement already satisfied: snowflake-snowpark-python<2,>=1.5.1 in c:\\users\\hp\\anaconda3\\envs\\llm-bootcamp\\lib\\site-packages (from snowflake-ml-python==1.0.12) (1.9.0)\n",
      "Requirement already satisfied: sqlparse<1,>=0.4 in c:\\users\\hp\\anaconda3\\envs\\llm-bootcamp\\lib\\site-packages (from snowflake-ml-python==1.0.12) (0.4.4)\n",
      "Requirement already satisfied: typing-extensions<5,>=4.1.0 in c:\\users\\hp\\anaconda3\\envs\\llm-bootcamp\\lib\\site-packages (from snowflake-ml-python==1.0.12) (4.7.1)\n",
      "Requirement already satisfied: xgboost<2,>=1.7.3 in c:\\users\\hp\\anaconda3\\envs\\llm-bootcamp\\lib\\site-packages (from snowflake-ml-python==1.0.12) (1.7.6)\n",
      "Requirement already satisfied: idna>=2.8 in c:\\users\\hp\\anaconda3\\envs\\llm-bootcamp\\lib\\site-packages (from anyio<4,>=3.5.0->snowflake-ml-python==1.0.12) (3.4)\n",
      "Requirement already satisfied: sniffio>=1.1 in c:\\users\\hp\\anaconda3\\envs\\llm-bootcamp\\lib\\site-packages (from anyio<4,>=3.5.0->snowflake-ml-python==1.0.12) (1.2.0)\n",
      "Requirement already satisfied: requests in c:\\users\\hp\\anaconda3\\envs\\llm-bootcamp\\lib\\site-packages (from fsspec[http]<2024,>=2022.11->snowflake-ml-python==1.0.12) (2.31.0)\n",
      "Requirement already satisfied: aiohttp!=4.0.0a0,!=4.0.0a1 in c:\\users\\hp\\anaconda3\\envs\\llm-bootcamp\\lib\\site-packages (from fsspec[http]<2024,>=2022.11->snowflake-ml-python==1.0.12) (3.9.1)\n",
      "Requirement already satisfied: zipp>=3.1.0 in c:\\users\\hp\\anaconda3\\envs\\llm-bootcamp\\lib\\site-packages (from importlib_resources<6,>=5.1.4->snowflake-ml-python==1.0.12) (3.11.0)\n",
      "Requirement already satisfied: python-dateutil>=2.8.1 in c:\\users\\hp\\anaconda3\\envs\\llm-bootcamp\\lib\\site-packages (from pandas<2,>=1.0.0->snowflake-ml-python==1.0.12) (2.8.3+snowflake1)\n",
      "Requirement already satisfied: pytz>=2020.1 in c:\\users\\hp\\anaconda3\\envs\\llm-bootcamp\\lib\\site-packages (from pandas<2,>=1.0.0->snowflake-ml-python==1.0.12) (2023.3.post1)\n",
      "Requirement already satisfied: aiobotocore<3.0.0,>=2.5.4 in c:\\users\\hp\\anaconda3\\envs\\llm-bootcamp\\lib\\site-packages (from s3fs<2024,>=2022.11->snowflake-ml-python==1.0.12) (2.8.0)\n",
      "Requirement already satisfied: joblib>=1.1.1 in c:\\users\\hp\\anaconda3\\envs\\llm-bootcamp\\lib\\site-packages (from scikit-learn<1.4,>=1.2.1->snowflake-ml-python==1.0.12) (1.3.2)\n",
      "Requirement already satisfied: threadpoolctl>=2.0.0 in c:\\users\\hp\\anaconda3\\envs\\llm-bootcamp\\lib\\site-packages (from scikit-learn<1.4,>=1.2.1->snowflake-ml-python==1.0.12) (3.2.0)\n",
      "Requirement already satisfied: asn1crypto<2.0.0,>0.24.0 in c:\\users\\hp\\anaconda3\\envs\\llm-bootcamp\\lib\\site-packages (from snowflake-connector-python<4,>=3.0.4->snowflake-connector-python[pandas]<4,>=3.0.4->snowflake-ml-python==1.0.12) (1.5.1)\n",
      "Requirement already satisfied: cffi<2.0.0,>=1.9 in c:\\users\\hp\\anaconda3\\envs\\llm-bootcamp\\lib\\site-packages (from snowflake-connector-python<4,>=3.0.4->snowflake-connector-python[pandas]<4,>=3.0.4->snowflake-ml-python==1.0.12) (1.15.1)\n",
      "Requirement already satisfied: cryptography<42.0.0,>=3.1.0 in c:\\users\\hp\\anaconda3\\envs\\llm-bootcamp\\lib\\site-packages (from snowflake-connector-python<4,>=3.0.4->snowflake-connector-python[pandas]<4,>=3.0.4->snowflake-ml-python==1.0.12) (41.0.3)\n",
      "Requirement already satisfied: oscrypto<2.0.0 in c:\\users\\hp\\anaconda3\\envs\\llm-bootcamp\\lib\\site-packages (from snowflake-connector-python<4,>=3.0.4->snowflake-connector-python[pandas]<4,>=3.0.4->snowflake-ml-python==1.0.12) (1.2.1)\n",
      "Requirement already satisfied: pyOpenSSL<24.0.0,>=16.2.0 in c:\\users\\hp\\anaconda3\\envs\\llm-bootcamp\\lib\\site-packages (from snowflake-connector-python<4,>=3.0.4->snowflake-connector-python[pandas]<4,>=3.0.4->snowflake-ml-python==1.0.12) (23.2.0)\n",
      "Requirement already satisfied: pycryptodomex!=3.5.0,<4.0.0,>=3.2 in c:\\users\\hp\\anaconda3\\envs\\llm-bootcamp\\lib\\site-packages (from snowflake-connector-python<4,>=3.0.4->snowflake-connector-python[pandas]<4,>=3.0.4->snowflake-ml-python==1.0.12) (3.15.0)\n",
      "Requirement already satisfied: pyjwt<3.0.0 in c:\\users\\hp\\anaconda3\\envs\\llm-bootcamp\\lib\\site-packages (from snowflake-connector-python<4,>=3.0.4->snowflake-connector-python[pandas]<4,>=3.0.4->snowflake-ml-python==1.0.12) (2.4.0)\n",
      "Requirement already satisfied: charset-normalizer<4,>=2 in c:\\users\\hp\\anaconda3\\envs\\llm-bootcamp\\lib\\site-packages (from snowflake-connector-python<4,>=3.0.4->snowflake-connector-python[pandas]<4,>=3.0.4->snowflake-ml-python==1.0.12) (2.0.4)\n",
      "Requirement already satisfied: urllib3<1.27,>=1.21.1 in c:\\users\\hp\\anaconda3\\envs\\llm-bootcamp\\lib\\site-packages (from snowflake-connector-python<4,>=3.0.4->snowflake-connector-python[pandas]<4,>=3.0.4->snowflake-ml-python==1.0.12) (1.26.18)\n",
      "Requirement already satisfied: certifi>=2017.4.17 in c:\\users\\hp\\anaconda3\\envs\\llm-bootcamp\\lib\\site-packages (from snowflake-connector-python<4,>=3.0.4->snowflake-connector-python[pandas]<4,>=3.0.4->snowflake-ml-python==1.0.12) (2023.7.22)\n",
      "Requirement already satisfied: filelock<4,>=3.5 in c:\\users\\hp\\anaconda3\\envs\\llm-bootcamp\\lib\\site-packages (from snowflake-connector-python<4,>=3.0.4->snowflake-connector-python[pandas]<4,>=3.0.4->snowflake-ml-python==1.0.12) (3.9.0)\n",
      "Requirement already satisfied: sortedcontainers>=2.4.0 in c:\\users\\hp\\anaconda3\\envs\\llm-bootcamp\\lib\\site-packages (from snowflake-connector-python<4,>=3.0.4->snowflake-connector-python[pandas]<4,>=3.0.4->snowflake-ml-python==1.0.12) (2.4.0)\n",
      "Requirement already satisfied: platformdirs<3.9.0,>=2.6.0 in c:\\users\\hp\\anaconda3\\envs\\llm-bootcamp\\lib\\site-packages (from snowflake-connector-python<4,>=3.0.4->snowflake-connector-python[pandas]<4,>=3.0.4->snowflake-ml-python==1.0.12) (3.8.1)\n",
      "Requirement already satisfied: tomlkit in c:\\users\\hp\\anaconda3\\envs\\llm-bootcamp\\lib\\site-packages (from snowflake-connector-python<4,>=3.0.4->snowflake-connector-python[pandas]<4,>=3.0.4->snowflake-ml-python==1.0.12) (0.11.1)\n",
      "Requirement already satisfied: pyarrow<10.1.0,>=10.0.1 in c:\\users\\hp\\anaconda3\\envs\\llm-bootcamp\\lib\\site-packages (from snowflake-connector-python[pandas]<4,>=3.0.4->snowflake-ml-python==1.0.12) (10.0.1)\n",
      "Requirement already satisfied: setuptools>=40.6.0 in c:\\users\\hp\\anaconda3\\envs\\llm-bootcamp\\lib\\site-packages (from snowflake-snowpark-python<2,>=1.5.1->snowflake-ml-python==1.0.12) (68.0.0)\n",
      "Requirement already satisfied: wheel in c:\\users\\hp\\anaconda3\\envs\\llm-bootcamp\\lib\\site-packages (from snowflake-snowpark-python<2,>=1.5.1->snowflake-ml-python==1.0.12) (0.41.2)\n",
      "Requirement already satisfied: botocore<1.33.2,>=1.32.4 in c:\\users\\hp\\anaconda3\\envs\\llm-bootcamp\\lib\\site-packages (from aiobotocore<3.0.0,>=2.5.4->s3fs<2024,>=2022.11->snowflake-ml-python==1.0.12) (1.33.1)\n",
      "Requirement already satisfied: wrapt<2.0.0,>=1.10.10 in c:\\users\\hp\\anaconda3\\envs\\llm-bootcamp\\lib\\site-packages (from aiobotocore<3.0.0,>=2.5.4->s3fs<2024,>=2022.11->snowflake-ml-python==1.0.12) (1.16.0)\n",
      "Requirement already satisfied: aioitertools<1.0.0,>=0.5.1 in c:\\users\\hp\\anaconda3\\envs\\llm-bootcamp\\lib\\site-packages (from aiobotocore<3.0.0,>=2.5.4->s3fs<2024,>=2022.11->snowflake-ml-python==1.0.12) (0.11.0)\n",
      "Requirement already satisfied: attrs>=17.3.0 in c:\\users\\hp\\anaconda3\\envs\\llm-bootcamp\\lib\\site-packages (from aiohttp!=4.0.0a0,!=4.0.0a1->fsspec[http]<2024,>=2022.11->snowflake-ml-python==1.0.12) (23.1.0)\n",
      "Requirement already satisfied: multidict<7.0,>=4.5 in c:\\users\\hp\\anaconda3\\envs\\llm-bootcamp\\lib\\site-packages (from aiohttp!=4.0.0a0,!=4.0.0a1->fsspec[http]<2024,>=2022.11->snowflake-ml-python==1.0.12) (6.0.4)\n",
      "Requirement already satisfied: yarl<2.0,>=1.0 in c:\\users\\hp\\anaconda3\\envs\\llm-bootcamp\\lib\\site-packages (from aiohttp!=4.0.0a0,!=4.0.0a1->fsspec[http]<2024,>=2022.11->snowflake-ml-python==1.0.12) (1.9.4)\n",
      "Requirement already satisfied: frozenlist>=1.1.1 in c:\\users\\hp\\anaconda3\\envs\\llm-bootcamp\\lib\\site-packages (from aiohttp!=4.0.0a0,!=4.0.0a1->fsspec[http]<2024,>=2022.11->snowflake-ml-python==1.0.12) (1.4.0)\n",
      "Requirement already satisfied: aiosignal>=1.1.2 in c:\\users\\hp\\anaconda3\\envs\\llm-bootcamp\\lib\\site-packages (from aiohttp!=4.0.0a0,!=4.0.0a1->fsspec[http]<2024,>=2022.11->snowflake-ml-python==1.0.12) (1.3.1)\n",
      "Requirement already satisfied: async-timeout<5.0,>=4.0 in c:\\users\\hp\\anaconda3\\envs\\llm-bootcamp\\lib\\site-packages (from aiohttp!=4.0.0a0,!=4.0.0a1->fsspec[http]<2024,>=2022.11->snowflake-ml-python==1.0.12) (4.0.3)\n",
      "Requirement already satisfied: pycparser in c:\\users\\hp\\anaconda3\\envs\\llm-bootcamp\\lib\\site-packages (from cffi<2.0.0,>=1.9->snowflake-connector-python<4,>=3.0.4->snowflake-connector-python[pandas]<4,>=3.0.4->snowflake-ml-python==1.0.12) (2.21)\n",
      "Requirement already satisfied: six>=1.5 in c:\\users\\hp\\anaconda3\\envs\\llm-bootcamp\\lib\\site-packages (from python-dateutil>=2.8.1->pandas<2,>=1.0.0->snowflake-ml-python==1.0.12) (1.16.0)\n",
      "Requirement already satisfied: jmespath<2.0.0,>=0.7.1 in c:\\users\\hp\\anaconda3\\envs\\llm-bootcamp\\lib\\site-packages (from botocore<1.33.2,>=1.32.4->aiobotocore<3.0.0,>=2.5.4->s3fs<2024,>=2022.11->snowflake-ml-python==1.0.12) (1.0.1)\n"
     ]
    }
   ],
   "source": [
    "!pip install snowflake-ml-python==1.0.12"
   ]
  },
  {
   "cell_type": "code",
   "execution_count": 2,
   "metadata": {},
   "outputs": [
    {
     "name": "stdout",
     "output_type": "stream",
     "text": [
      "Requirement already satisfied: transformers==4.34.0 in c:\\users\\hp\\anaconda3\\envs\\llm-bootcamp\\lib\\site-packages (4.34.0)\n",
      "Requirement already satisfied: tokenizers in c:\\users\\hp\\anaconda3\\envs\\llm-bootcamp\\lib\\site-packages (0.14.1)\n",
      "Requirement already satisfied: filelock in c:\\users\\hp\\anaconda3\\envs\\llm-bootcamp\\lib\\site-packages (from transformers==4.34.0) (3.9.0)\n",
      "Requirement already satisfied: huggingface-hub<1.0,>=0.16.4 in c:\\users\\hp\\anaconda3\\envs\\llm-bootcamp\\lib\\site-packages (from transformers==4.34.0) (0.17.3)\n",
      "Requirement already satisfied: numpy>=1.17 in c:\\users\\hp\\anaconda3\\envs\\llm-bootcamp\\lib\\site-packages (from transformers==4.34.0) (1.26.0)\n",
      "Requirement already satisfied: packaging>=20.0 in c:\\users\\hp\\anaconda3\\envs\\llm-bootcamp\\lib\\site-packages (from transformers==4.34.0) (23.1)\n",
      "Requirement already satisfied: pyyaml>=5.1 in c:\\users\\hp\\anaconda3\\envs\\llm-bootcamp\\lib\\site-packages (from transformers==4.34.0) (6.0.1)\n",
      "Requirement already satisfied: regex!=2019.12.17 in c:\\users\\hp\\anaconda3\\envs\\llm-bootcamp\\lib\\site-packages (from transformers==4.34.0) (2023.10.3)\n",
      "Requirement already satisfied: requests in c:\\users\\hp\\anaconda3\\envs\\llm-bootcamp\\lib\\site-packages (from transformers==4.34.0) (2.31.0)\n",
      "Requirement already satisfied: safetensors>=0.3.1 in c:\\users\\hp\\anaconda3\\envs\\llm-bootcamp\\lib\\site-packages (from transformers==4.34.0) (0.4.1)\n",
      "Requirement already satisfied: tqdm>=4.27 in c:\\users\\hp\\anaconda3\\envs\\llm-bootcamp\\lib\\site-packages (from transformers==4.34.0) (4.66.1)\n",
      "Requirement already satisfied: fsspec in c:\\users\\hp\\anaconda3\\envs\\llm-bootcamp\\lib\\site-packages (from huggingface-hub<1.0,>=0.16.4->transformers==4.34.0) (2023.12.1)\n",
      "Requirement already satisfied: typing-extensions>=3.7.4.3 in c:\\users\\hp\\anaconda3\\envs\\llm-bootcamp\\lib\\site-packages (from huggingface-hub<1.0,>=0.16.4->transformers==4.34.0) (4.7.1)\n",
      "Requirement already satisfied: colorama in c:\\users\\hp\\anaconda3\\envs\\llm-bootcamp\\lib\\site-packages (from tqdm>=4.27->transformers==4.34.0) (0.4.6)\n",
      "Requirement already satisfied: charset-normalizer<4,>=2 in c:\\users\\hp\\anaconda3\\envs\\llm-bootcamp\\lib\\site-packages (from requests->transformers==4.34.0) (2.0.4)\n",
      "Requirement already satisfied: idna<4,>=2.5 in c:\\users\\hp\\anaconda3\\envs\\llm-bootcamp\\lib\\site-packages (from requests->transformers==4.34.0) (3.4)\n",
      "Requirement already satisfied: urllib3<3,>=1.21.1 in c:\\users\\hp\\anaconda3\\envs\\llm-bootcamp\\lib\\site-packages (from requests->transformers==4.34.0) (1.26.18)\n",
      "Requirement already satisfied: certifi>=2017.4.17 in c:\\users\\hp\\anaconda3\\envs\\llm-bootcamp\\lib\\site-packages (from requests->transformers==4.34.0) (2023.7.22)\n"
     ]
    }
   ],
   "source": [
    "!pip install transformers==4.34.0 tokenizers"
   ]
  },
  {
   "cell_type": "markdown",
   "metadata": {},
   "source": [
    "### Import Libraries"
   ]
  },
  {
   "cell_type": "code",
   "execution_count": 3,
   "metadata": {},
   "outputs": [],
   "source": [
    "from snowflake.snowpark.session import Session\n",
    "from snowflake.ml.model.models import llm\n",
    "from snowflake.ml.registry import model_registry\n",
    "from snowflake.ml.model import deploy_platforms\n",
    "from snowflake.snowpark import VERSION\n",
    "import snowflake.snowpark.functions as F\n",
    "\n",
    "import sys\n",
    "import os\n",
    "import json\n",
    "import pandas as pd\n",
    "pd.set_option('display.max_colwidth', None)"
   ]
  },
  {
   "cell_type": "markdown",
   "metadata": {},
   "source": [
    "### Establish Secure Connection\n",
    "\n",
    "*NOTE: Update [connection.json](connection.json) and set your password, Hugging Face token, and replace '####' with your user number.*"
   ]
  },
  {
   "cell_type": "code",
   "execution_count": 5,
   "metadata": {},
   "outputs": [
    {
     "ename": "OperationalError",
     "evalue": "250001: Could not connect to Snowflake backend after 1 attempt(s).Aborting",
     "output_type": "error",
     "traceback": [
      "\u001b[1;31m---------------------------------------------------------------------------\u001b[0m",
      "\u001b[1;31mgaierror\u001b[0m                                  Traceback (most recent call last)",
      "File \u001b[1;32mc:\\Users\\HP\\anaconda3\\envs\\llm-bootcamp\\lib\\site-packages\\snowflake\\connector\\vendored\\urllib3\\connection.py:174\u001b[0m, in \u001b[0;36mHTTPConnection._new_conn\u001b[1;34m(self)\u001b[0m\n\u001b[0;32m    173\u001b[0m \u001b[39mtry\u001b[39;00m:\n\u001b[1;32m--> 174\u001b[0m     conn \u001b[39m=\u001b[39m connection\u001b[39m.\u001b[39mcreate_connection(\n\u001b[0;32m    175\u001b[0m         (\u001b[39mself\u001b[39m\u001b[39m.\u001b[39m_dns_host, \u001b[39mself\u001b[39m\u001b[39m.\u001b[39mport), \u001b[39mself\u001b[39m\u001b[39m.\u001b[39mtimeout, \u001b[39m*\u001b[39m\u001b[39m*\u001b[39mextra_kw\n\u001b[0;32m    176\u001b[0m     )\n\u001b[0;32m    178\u001b[0m \u001b[39mexcept\u001b[39;00m SocketTimeout:\n",
      "File \u001b[1;32mc:\\Users\\HP\\anaconda3\\envs\\llm-bootcamp\\lib\\site-packages\\snowflake\\connector\\vendored\\urllib3\\util\\connection.py:72\u001b[0m, in \u001b[0;36mcreate_connection\u001b[1;34m(address, timeout, source_address, socket_options)\u001b[0m\n\u001b[0;32m     68\u001b[0m     \u001b[39mreturn\u001b[39;00m six\u001b[39m.\u001b[39mraise_from(\n\u001b[0;32m     69\u001b[0m         LocationParseError(\u001b[39mu\u001b[39m\u001b[39m\"\u001b[39m\u001b[39m'\u001b[39m\u001b[39m%s\u001b[39;00m\u001b[39m'\u001b[39m\u001b[39m, label empty or too long\u001b[39m\u001b[39m\"\u001b[39m \u001b[39m%\u001b[39m host), \u001b[39mNone\u001b[39;00m\n\u001b[0;32m     70\u001b[0m     )\n\u001b[1;32m---> 72\u001b[0m \u001b[39mfor\u001b[39;00m res \u001b[39min\u001b[39;00m socket\u001b[39m.\u001b[39;49mgetaddrinfo(host, port, family, socket\u001b[39m.\u001b[39;49mSOCK_STREAM):\n\u001b[0;32m     73\u001b[0m     af, socktype, proto, canonname, sa \u001b[39m=\u001b[39m res\n",
      "File \u001b[1;32mc:\\Users\\HP\\anaconda3\\envs\\llm-bootcamp\\lib\\socket.py:954\u001b[0m, in \u001b[0;36mgetaddrinfo\u001b[1;34m(host, port, family, type, proto, flags)\u001b[0m\n\u001b[0;32m    953\u001b[0m addrlist \u001b[39m=\u001b[39m []\n\u001b[1;32m--> 954\u001b[0m \u001b[39mfor\u001b[39;00m res \u001b[39min\u001b[39;00m _socket\u001b[39m.\u001b[39;49mgetaddrinfo(host, port, family, \u001b[39mtype\u001b[39;49m, proto, flags):\n\u001b[0;32m    955\u001b[0m     af, socktype, proto, canonname, sa \u001b[39m=\u001b[39m res\n",
      "\u001b[1;31mgaierror\u001b[0m: [Errno 11001] getaddrinfo failed",
      "\nDuring handling of the above exception, another exception occurred:\n",
      "\u001b[1;31mNewConnectionError\u001b[0m                        Traceback (most recent call last)",
      "File \u001b[1;32mc:\\Users\\HP\\anaconda3\\envs\\llm-bootcamp\\lib\\site-packages\\snowflake\\connector\\vendored\\urllib3\\connectionpool.py:703\u001b[0m, in \u001b[0;36mHTTPConnectionPool.urlopen\u001b[1;34m(self, method, url, body, headers, retries, redirect, assert_same_host, timeout, pool_timeout, release_conn, chunked, body_pos, **response_kw)\u001b[0m\n\u001b[0;32m    702\u001b[0m \u001b[39m# Make the request on the httplib connection object.\u001b[39;00m\n\u001b[1;32m--> 703\u001b[0m httplib_response \u001b[39m=\u001b[39m \u001b[39mself\u001b[39;49m\u001b[39m.\u001b[39;49m_make_request(\n\u001b[0;32m    704\u001b[0m     conn,\n\u001b[0;32m    705\u001b[0m     method,\n\u001b[0;32m    706\u001b[0m     url,\n\u001b[0;32m    707\u001b[0m     timeout\u001b[39m=\u001b[39;49mtimeout_obj,\n\u001b[0;32m    708\u001b[0m     body\u001b[39m=\u001b[39;49mbody,\n\u001b[0;32m    709\u001b[0m     headers\u001b[39m=\u001b[39;49mheaders,\n\u001b[0;32m    710\u001b[0m     chunked\u001b[39m=\u001b[39;49mchunked,\n\u001b[0;32m    711\u001b[0m )\n\u001b[0;32m    713\u001b[0m \u001b[39m# If we're going to release the connection in ``finally:``, then\u001b[39;00m\n\u001b[0;32m    714\u001b[0m \u001b[39m# the response doesn't need to know about the connection. Otherwise\u001b[39;00m\n\u001b[0;32m    715\u001b[0m \u001b[39m# it will also try to release it and we'll have a double-release\u001b[39;00m\n\u001b[0;32m    716\u001b[0m \u001b[39m# mess.\u001b[39;00m\n",
      "File \u001b[1;32mc:\\Users\\HP\\anaconda3\\envs\\llm-bootcamp\\lib\\site-packages\\snowflake\\connector\\vendored\\urllib3\\connectionpool.py:386\u001b[0m, in \u001b[0;36mHTTPConnectionPool._make_request\u001b[1;34m(self, conn, method, url, timeout, chunked, **httplib_request_kw)\u001b[0m\n\u001b[0;32m    385\u001b[0m \u001b[39mtry\u001b[39;00m:\n\u001b[1;32m--> 386\u001b[0m     \u001b[39mself\u001b[39;49m\u001b[39m.\u001b[39;49m_validate_conn(conn)\n\u001b[0;32m    387\u001b[0m \u001b[39mexcept\u001b[39;00m (SocketTimeout, BaseSSLError) \u001b[39mas\u001b[39;00m e:\n\u001b[0;32m    388\u001b[0m     \u001b[39m# Py2 raises this as a BaseSSLError, Py3 raises it as socket timeout.\u001b[39;00m\n",
      "File \u001b[1;32mc:\\Users\\HP\\anaconda3\\envs\\llm-bootcamp\\lib\\site-packages\\snowflake\\connector\\vendored\\urllib3\\connectionpool.py:1042\u001b[0m, in \u001b[0;36mHTTPSConnectionPool._validate_conn\u001b[1;34m(self, conn)\u001b[0m\n\u001b[0;32m   1041\u001b[0m \u001b[39mif\u001b[39;00m \u001b[39mnot\u001b[39;00m \u001b[39mgetattr\u001b[39m(conn, \u001b[39m\"\u001b[39m\u001b[39msock\u001b[39m\u001b[39m\"\u001b[39m, \u001b[39mNone\u001b[39;00m):  \u001b[39m# AppEngine might not have  `.sock`\u001b[39;00m\n\u001b[1;32m-> 1042\u001b[0m     conn\u001b[39m.\u001b[39;49mconnect()\n\u001b[0;32m   1044\u001b[0m \u001b[39mif\u001b[39;00m \u001b[39mnot\u001b[39;00m conn\u001b[39m.\u001b[39mis_verified:\n",
      "File \u001b[1;32mc:\\Users\\HP\\anaconda3\\envs\\llm-bootcamp\\lib\\site-packages\\snowflake\\connector\\vendored\\urllib3\\connection.py:363\u001b[0m, in \u001b[0;36mHTTPSConnection.connect\u001b[1;34m(self)\u001b[0m\n\u001b[0;32m    361\u001b[0m \u001b[39mdef\u001b[39;00m \u001b[39mconnect\u001b[39m(\u001b[39mself\u001b[39m):\n\u001b[0;32m    362\u001b[0m     \u001b[39m# Add certificate verification\u001b[39;00m\n\u001b[1;32m--> 363\u001b[0m     \u001b[39mself\u001b[39m\u001b[39m.\u001b[39msock \u001b[39m=\u001b[39m conn \u001b[39m=\u001b[39m \u001b[39mself\u001b[39;49m\u001b[39m.\u001b[39;49m_new_conn()\n\u001b[0;32m    364\u001b[0m     hostname \u001b[39m=\u001b[39m \u001b[39mself\u001b[39m\u001b[39m.\u001b[39mhost\n",
      "File \u001b[1;32mc:\\Users\\HP\\anaconda3\\envs\\llm-bootcamp\\lib\\site-packages\\snowflake\\connector\\vendored\\urllib3\\connection.py:186\u001b[0m, in \u001b[0;36mHTTPConnection._new_conn\u001b[1;34m(self)\u001b[0m\n\u001b[0;32m    185\u001b[0m \u001b[39mexcept\u001b[39;00m SocketError \u001b[39mas\u001b[39;00m e:\n\u001b[1;32m--> 186\u001b[0m     \u001b[39mraise\u001b[39;00m NewConnectionError(\n\u001b[0;32m    187\u001b[0m         \u001b[39mself\u001b[39m, \u001b[39m\"\u001b[39m\u001b[39mFailed to establish a new connection: \u001b[39m\u001b[39m%s\u001b[39;00m\u001b[39m\"\u001b[39m \u001b[39m%\u001b[39m e\n\u001b[0;32m    188\u001b[0m     )\n\u001b[0;32m    190\u001b[0m \u001b[39mreturn\u001b[39;00m conn\n",
      "\u001b[1;31mNewConnectionError\u001b[0m: <snowflake.connector.vendored.urllib3.connection.HTTPSConnection object at 0x000001A5C504FDF0>: Failed to establish a new connection: [Errno 11001] getaddrinfo failed",
      "\nDuring handling of the above exception, another exception occurred:\n",
      "\u001b[1;31mMaxRetryError\u001b[0m                             Traceback (most recent call last)",
      "File \u001b[1;32mc:\\Users\\HP\\anaconda3\\envs\\llm-bootcamp\\lib\\site-packages\\snowflake\\connector\\vendored\\requests\\adapters.py:487\u001b[0m, in \u001b[0;36mHTTPAdapter.send\u001b[1;34m(self, request, stream, timeout, verify, cert, proxies)\u001b[0m\n\u001b[0;32m    486\u001b[0m \u001b[39mtry\u001b[39;00m:\n\u001b[1;32m--> 487\u001b[0m     resp \u001b[39m=\u001b[39m conn\u001b[39m.\u001b[39;49murlopen(\n\u001b[0;32m    488\u001b[0m         method\u001b[39m=\u001b[39;49mrequest\u001b[39m.\u001b[39;49mmethod,\n\u001b[0;32m    489\u001b[0m         url\u001b[39m=\u001b[39;49murl,\n\u001b[0;32m    490\u001b[0m         body\u001b[39m=\u001b[39;49mrequest\u001b[39m.\u001b[39;49mbody,\n\u001b[0;32m    491\u001b[0m         headers\u001b[39m=\u001b[39;49mrequest\u001b[39m.\u001b[39;49mheaders,\n\u001b[0;32m    492\u001b[0m         redirect\u001b[39m=\u001b[39;49m\u001b[39mFalse\u001b[39;49;00m,\n\u001b[0;32m    493\u001b[0m         assert_same_host\u001b[39m=\u001b[39;49m\u001b[39mFalse\u001b[39;49;00m,\n\u001b[0;32m    494\u001b[0m         preload_content\u001b[39m=\u001b[39;49m\u001b[39mFalse\u001b[39;49;00m,\n\u001b[0;32m    495\u001b[0m         decode_content\u001b[39m=\u001b[39;49m\u001b[39mFalse\u001b[39;49;00m,\n\u001b[0;32m    496\u001b[0m         retries\u001b[39m=\u001b[39;49m\u001b[39mself\u001b[39;49m\u001b[39m.\u001b[39;49mmax_retries,\n\u001b[0;32m    497\u001b[0m         timeout\u001b[39m=\u001b[39;49mtimeout,\n\u001b[0;32m    498\u001b[0m         chunked\u001b[39m=\u001b[39;49mchunked,\n\u001b[0;32m    499\u001b[0m     )\n\u001b[0;32m    501\u001b[0m \u001b[39mexcept\u001b[39;00m (ProtocolError, \u001b[39mOSError\u001b[39;00m) \u001b[39mas\u001b[39;00m err:\n",
      "File \u001b[1;32mc:\\Users\\HP\\anaconda3\\envs\\llm-bootcamp\\lib\\site-packages\\snowflake\\connector\\vendored\\urllib3\\connectionpool.py:815\u001b[0m, in \u001b[0;36mHTTPConnectionPool.urlopen\u001b[1;34m(self, method, url, body, headers, retries, redirect, assert_same_host, timeout, pool_timeout, release_conn, chunked, body_pos, **response_kw)\u001b[0m\n\u001b[0;32m    812\u001b[0m     log\u001b[39m.\u001b[39mwarning(\n\u001b[0;32m    813\u001b[0m         \u001b[39m\"\u001b[39m\u001b[39mRetrying (\u001b[39m\u001b[39m%r\u001b[39;00m\u001b[39m) after connection broken by \u001b[39m\u001b[39m'\u001b[39m\u001b[39m%r\u001b[39;00m\u001b[39m'\u001b[39m\u001b[39m: \u001b[39m\u001b[39m%s\u001b[39;00m\u001b[39m\"\u001b[39m, retries, err, url\n\u001b[0;32m    814\u001b[0m     )\n\u001b[1;32m--> 815\u001b[0m     \u001b[39mreturn\u001b[39;00m \u001b[39mself\u001b[39m\u001b[39m.\u001b[39murlopen(\n\u001b[0;32m    816\u001b[0m         method,\n\u001b[0;32m    817\u001b[0m         url,\n\u001b[0;32m    818\u001b[0m         body,\n\u001b[0;32m    819\u001b[0m         headers,\n\u001b[0;32m    820\u001b[0m         retries,\n\u001b[0;32m    821\u001b[0m         redirect,\n\u001b[0;32m    822\u001b[0m         assert_same_host,\n\u001b[0;32m    823\u001b[0m         timeout\u001b[39m=\u001b[39mtimeout,\n\u001b[0;32m    824\u001b[0m         pool_timeout\u001b[39m=\u001b[39mpool_timeout,\n\u001b[0;32m    825\u001b[0m         release_conn\u001b[39m=\u001b[39mrelease_conn,\n\u001b[0;32m    826\u001b[0m         chunked\u001b[39m=\u001b[39mchunked,\n\u001b[0;32m    827\u001b[0m         body_pos\u001b[39m=\u001b[39mbody_pos,\n\u001b[0;32m    828\u001b[0m         \u001b[39m*\u001b[39m\u001b[39m*\u001b[39mresponse_kw\n\u001b[0;32m    829\u001b[0m     )\n\u001b[0;32m    831\u001b[0m \u001b[39m# Handle redirect?\u001b[39;00m\n",
      "File \u001b[1;32mc:\\Users\\HP\\anaconda3\\envs\\llm-bootcamp\\lib\\site-packages\\snowflake\\connector\\vendored\\urllib3\\connectionpool.py:787\u001b[0m, in \u001b[0;36mHTTPConnectionPool.urlopen\u001b[1;34m(self, method, url, body, headers, retries, redirect, assert_same_host, timeout, pool_timeout, release_conn, chunked, body_pos, **response_kw)\u001b[0m\n\u001b[0;32m    785\u001b[0m     e \u001b[39m=\u001b[39m ProtocolError(\u001b[39m\"\u001b[39m\u001b[39mConnection aborted.\u001b[39m\u001b[39m\"\u001b[39m, e)\n\u001b[1;32m--> 787\u001b[0m retries \u001b[39m=\u001b[39m retries\u001b[39m.\u001b[39;49mincrement(\n\u001b[0;32m    788\u001b[0m     method, url, error\u001b[39m=\u001b[39;49me, _pool\u001b[39m=\u001b[39;49m\u001b[39mself\u001b[39;49m, _stacktrace\u001b[39m=\u001b[39;49msys\u001b[39m.\u001b[39;49mexc_info()[\u001b[39m2\u001b[39;49m]\n\u001b[0;32m    789\u001b[0m )\n\u001b[0;32m    790\u001b[0m retries\u001b[39m.\u001b[39msleep()\n",
      "File \u001b[1;32mc:\\Users\\HP\\anaconda3\\envs\\llm-bootcamp\\lib\\site-packages\\snowflake\\connector\\vendored\\urllib3\\util\\retry.py:592\u001b[0m, in \u001b[0;36mRetry.increment\u001b[1;34m(self, method, url, response, error, _pool, _stacktrace)\u001b[0m\n\u001b[0;32m    591\u001b[0m \u001b[39mif\u001b[39;00m new_retry\u001b[39m.\u001b[39mis_exhausted():\n\u001b[1;32m--> 592\u001b[0m     \u001b[39mraise\u001b[39;00m MaxRetryError(_pool, url, error \u001b[39mor\u001b[39;00m ResponseError(cause))\n\u001b[0;32m    594\u001b[0m log\u001b[39m.\u001b[39mdebug(\u001b[39m\"\u001b[39m\u001b[39mIncremented Retry for (url=\u001b[39m\u001b[39m'\u001b[39m\u001b[39m%s\u001b[39;00m\u001b[39m'\u001b[39m\u001b[39m): \u001b[39m\u001b[39m%r\u001b[39;00m\u001b[39m\"\u001b[39m, url, new_retry)\n",
      "\u001b[1;31mMaxRetryError\u001b[0m: HTTPSConnectionPool(host='%20vk23413.snowflakecomputing.com', port=443): Max retries exceeded with url: /session/v1/login-request?request_id=8d18778e-58b2-4b84-a0e8-10a4b4261a71&databaseName=DEV_DB&schemaName=BHAVYA&warehouse=XS_WH&roleName=ACCOUNTADMIN&request_guid=d780da97-39b3-46c6-b9d0-7d4ef75dd4a6 (Caused by NewConnectionError('<snowflake.connector.vendored.urllib3.connection.HTTPSConnection object at 0x000001A5C504FDF0>: Failed to establish a new connection: [Errno 11001] getaddrinfo failed'))",
      "\nDuring handling of the above exception, another exception occurred:\n",
      "\u001b[1;31mConnectionError\u001b[0m                           Traceback (most recent call last)",
      "File \u001b[1;32mc:\\Users\\HP\\anaconda3\\envs\\llm-bootcamp\\lib\\site-packages\\snowflake\\connector\\network.py:1084\u001b[0m, in \u001b[0;36mSnowflakeRestful._request_exec\u001b[1;34m(self, session, method, full_url, headers, data, token, catch_okta_unauthorized_error, is_raw_text, is_raw_binary, binary_data_handler, socket_timeout, is_okta_authentication)\u001b[0m\n\u001b[0;32m   1081\u001b[0m \u001b[39m# socket timeout is constant. You should be able to receive\u001b[39;00m\n\u001b[0;32m   1082\u001b[0m \u001b[39m# the response within the time. If not, ConnectReadTimeout or\u001b[39;00m\n\u001b[0;32m   1083\u001b[0m \u001b[39m# ReadTimeout is raised.\u001b[39;00m\n\u001b[1;32m-> 1084\u001b[0m raw_ret \u001b[39m=\u001b[39m session\u001b[39m.\u001b[39;49mrequest(\n\u001b[0;32m   1085\u001b[0m     method\u001b[39m=\u001b[39;49mmethod,\n\u001b[0;32m   1086\u001b[0m     url\u001b[39m=\u001b[39;49mfull_url,\n\u001b[0;32m   1087\u001b[0m     headers\u001b[39m=\u001b[39;49mheaders,\n\u001b[0;32m   1088\u001b[0m     data\u001b[39m=\u001b[39;49minput_data,\n\u001b[0;32m   1089\u001b[0m     timeout\u001b[39m=\u001b[39;49msocket_timeout,\n\u001b[0;32m   1090\u001b[0m     verify\u001b[39m=\u001b[39;49m\u001b[39mTrue\u001b[39;49;00m,\n\u001b[0;32m   1091\u001b[0m     stream\u001b[39m=\u001b[39;49mis_raw_binary,\n\u001b[0;32m   1092\u001b[0m     auth\u001b[39m=\u001b[39;49mSnowflakeAuth(token),\n\u001b[0;32m   1093\u001b[0m )\n\u001b[0;32m   1094\u001b[0m download_end_time \u001b[39m=\u001b[39m get_time_millis()\n",
      "File \u001b[1;32mc:\\Users\\HP\\anaconda3\\envs\\llm-bootcamp\\lib\\site-packages\\snowflake\\connector\\vendored\\requests\\sessions.py:587\u001b[0m, in \u001b[0;36mSession.request\u001b[1;34m(self, method, url, params, data, headers, cookies, files, auth, timeout, allow_redirects, proxies, hooks, stream, verify, cert, json)\u001b[0m\n\u001b[0;32m    586\u001b[0m send_kwargs\u001b[39m.\u001b[39mupdate(settings)\n\u001b[1;32m--> 587\u001b[0m resp \u001b[39m=\u001b[39m \u001b[39mself\u001b[39m\u001b[39m.\u001b[39msend(prep, \u001b[39m*\u001b[39m\u001b[39m*\u001b[39msend_kwargs)\n\u001b[0;32m    589\u001b[0m \u001b[39mreturn\u001b[39;00m resp\n",
      "File \u001b[1;32mc:\\Users\\HP\\anaconda3\\envs\\llm-bootcamp\\lib\\site-packages\\snowflake\\connector\\vendored\\requests\\sessions.py:701\u001b[0m, in \u001b[0;36mSession.send\u001b[1;34m(self, request, **kwargs)\u001b[0m\n\u001b[0;32m    700\u001b[0m \u001b[39m# Send the request\u001b[39;00m\n\u001b[1;32m--> 701\u001b[0m r \u001b[39m=\u001b[39m adapter\u001b[39m.\u001b[39msend(request, \u001b[39m*\u001b[39m\u001b[39m*\u001b[39mkwargs)\n\u001b[0;32m    703\u001b[0m \u001b[39m# Total elapsed time of the request (approximately)\u001b[39;00m\n",
      "File \u001b[1;32mc:\\Users\\HP\\anaconda3\\envs\\llm-bootcamp\\lib\\site-packages\\snowflake\\connector\\vendored\\requests\\adapters.py:520\u001b[0m, in \u001b[0;36mHTTPAdapter.send\u001b[1;34m(self, request, stream, timeout, verify, cert, proxies)\u001b[0m\n\u001b[0;32m    518\u001b[0m         \u001b[39mraise\u001b[39;00m SSLError(e, request\u001b[39m=\u001b[39mrequest)\n\u001b[1;32m--> 520\u001b[0m     \u001b[39mraise\u001b[39;00m \u001b[39mConnectionError\u001b[39;00m(e, request\u001b[39m=\u001b[39mrequest)\n\u001b[0;32m    522\u001b[0m \u001b[39mexcept\u001b[39;00m ClosedPoolError \u001b[39mas\u001b[39;00m e:\n",
      "\u001b[1;31mConnectionError\u001b[0m: HTTPSConnectionPool(host='%20vk23413.snowflakecomputing.com', port=443): Max retries exceeded with url: /session/v1/login-request?request_id=8d18778e-58b2-4b84-a0e8-10a4b4261a71&databaseName=DEV_DB&schemaName=BHAVYA&warehouse=XS_WH&roleName=ACCOUNTADMIN&request_guid=d780da97-39b3-46c6-b9d0-7d4ef75dd4a6 (Caused by NewConnectionError('<snowflake.connector.vendored.urllib3.connection.HTTPSConnection object at 0x000001A5C504FDF0>: Failed to establish a new connection: [Errno 11001] getaddrinfo failed'))",
      "\nDuring handling of the above exception, another exception occurred:\n",
      "\u001b[1;31mOperationalError\u001b[0m                          Traceback (most recent call last)",
      "File \u001b[1;32mc:\\Users\\HP\\anaconda3\\envs\\llm-bootcamp\\lib\\site-packages\\snowflake\\connector\\connection.py:1212\u001b[0m, in \u001b[0;36mSnowflakeConnection._authenticate\u001b[1;34m(self, auth_instance)\u001b[0m\n\u001b[0;32m   1211\u001b[0m \u001b[39mtry\u001b[39;00m:\n\u001b[1;32m-> 1212\u001b[0m     auth\u001b[39m.\u001b[39;49mauthenticate(\n\u001b[0;32m   1213\u001b[0m         auth_instance\u001b[39m=\u001b[39;49mauth_instance,\n\u001b[0;32m   1214\u001b[0m         account\u001b[39m=\u001b[39;49m\u001b[39mself\u001b[39;49m\u001b[39m.\u001b[39;49maccount,\n\u001b[0;32m   1215\u001b[0m         user\u001b[39m=\u001b[39;49m\u001b[39mself\u001b[39;49m\u001b[39m.\u001b[39;49muser,\n\u001b[0;32m   1216\u001b[0m         database\u001b[39m=\u001b[39;49m\u001b[39mself\u001b[39;49m\u001b[39m.\u001b[39;49mdatabase,\n\u001b[0;32m   1217\u001b[0m         schema\u001b[39m=\u001b[39;49m\u001b[39mself\u001b[39;49m\u001b[39m.\u001b[39;49mschema,\n\u001b[0;32m   1218\u001b[0m         warehouse\u001b[39m=\u001b[39;49m\u001b[39mself\u001b[39;49m\u001b[39m.\u001b[39;49mwarehouse,\n\u001b[0;32m   1219\u001b[0m         role\u001b[39m=\u001b[39;49m\u001b[39mself\u001b[39;49m\u001b[39m.\u001b[39;49mrole,\n\u001b[0;32m   1220\u001b[0m         passcode\u001b[39m=\u001b[39;49m\u001b[39mself\u001b[39;49m\u001b[39m.\u001b[39;49m_passcode,\n\u001b[0;32m   1221\u001b[0m         passcode_in_password\u001b[39m=\u001b[39;49m\u001b[39mself\u001b[39;49m\u001b[39m.\u001b[39;49m_passcode_in_password,\n\u001b[0;32m   1222\u001b[0m         mfa_callback\u001b[39m=\u001b[39;49m\u001b[39mself\u001b[39;49m\u001b[39m.\u001b[39;49m_mfa_callback,\n\u001b[0;32m   1223\u001b[0m         password_callback\u001b[39m=\u001b[39;49m\u001b[39mself\u001b[39;49m\u001b[39m.\u001b[39;49m_password_callback,\n\u001b[0;32m   1224\u001b[0m         session_parameters\u001b[39m=\u001b[39;49m\u001b[39mself\u001b[39;49m\u001b[39m.\u001b[39;49m_session_parameters,\n\u001b[0;32m   1225\u001b[0m     )\n\u001b[0;32m   1226\u001b[0m \u001b[39mexcept\u001b[39;00m OperationalError \u001b[39mas\u001b[39;00m e:\n",
      "File \u001b[1;32mc:\\Users\\HP\\anaconda3\\envs\\llm-bootcamp\\lib\\site-packages\\snowflake\\connector\\auth\\_auth.py:250\u001b[0m, in \u001b[0;36mAuth.authenticate\u001b[1;34m(self, auth_instance, account, user, database, schema, warehouse, role, passcode, passcode_in_password, mfa_callback, password_callback, session_parameters, timeout)\u001b[0m\n\u001b[0;32m    249\u001b[0m \u001b[39mtry\u001b[39;00m:\n\u001b[1;32m--> 250\u001b[0m     ret \u001b[39m=\u001b[39m \u001b[39mself\u001b[39;49m\u001b[39m.\u001b[39;49m_rest\u001b[39m.\u001b[39;49m_post_request(\n\u001b[0;32m    251\u001b[0m         url,\n\u001b[0;32m    252\u001b[0m         headers,\n\u001b[0;32m    253\u001b[0m         json\u001b[39m.\u001b[39;49mdumps(body),\n\u001b[0;32m    254\u001b[0m         timeout\u001b[39m=\u001b[39;49mauth_timeout,\n\u001b[0;32m    255\u001b[0m         socket_timeout\u001b[39m=\u001b[39;49mauth_timeout,\n\u001b[0;32m    256\u001b[0m     )\n\u001b[0;32m    257\u001b[0m \u001b[39mexcept\u001b[39;00m ForbiddenError \u001b[39mas\u001b[39;00m err:\n\u001b[0;32m    258\u001b[0m     \u001b[39m# HTTP 403\u001b[39;00m\n",
      "File \u001b[1;32mc:\\Users\\HP\\anaconda3\\envs\\llm-bootcamp\\lib\\site-packages\\snowflake\\connector\\network.py:730\u001b[0m, in \u001b[0;36mSnowflakeRestful._post_request\u001b[1;34m(self, url, headers, body, token, timeout, _no_results, no_retry, socket_timeout, _include_retry_params)\u001b[0m\n\u001b[0;32m    728\u001b[0m     pprint(ret)\n\u001b[1;32m--> 730\u001b[0m ret \u001b[39m=\u001b[39m \u001b[39mself\u001b[39;49m\u001b[39m.\u001b[39;49mfetch(\n\u001b[0;32m    731\u001b[0m     \u001b[39m\"\u001b[39;49m\u001b[39mpost\u001b[39;49m\u001b[39m\"\u001b[39;49m,\n\u001b[0;32m    732\u001b[0m     full_url,\n\u001b[0;32m    733\u001b[0m     headers,\n\u001b[0;32m    734\u001b[0m     data\u001b[39m=\u001b[39;49mbody,\n\u001b[0;32m    735\u001b[0m     timeout\u001b[39m=\u001b[39;49mtimeout,\n\u001b[0;32m    736\u001b[0m     token\u001b[39m=\u001b[39;49mtoken,\n\u001b[0;32m    737\u001b[0m     no_retry\u001b[39m=\u001b[39;49mno_retry,\n\u001b[0;32m    738\u001b[0m     socket_timeout\u001b[39m=\u001b[39;49msocket_timeout,\n\u001b[0;32m    739\u001b[0m     _include_retry_params\u001b[39m=\u001b[39;49m_include_retry_params,\n\u001b[0;32m    740\u001b[0m )\n\u001b[0;32m    741\u001b[0m logger\u001b[39m.\u001b[39mdebug(\n\u001b[0;32m    742\u001b[0m     \u001b[39m\"\u001b[39m\u001b[39mret[code] = \u001b[39m\u001b[39m{code}\u001b[39;00m\u001b[39m, after post request\u001b[39m\u001b[39m\"\u001b[39m\u001b[39m.\u001b[39mformat(\n\u001b[0;32m    743\u001b[0m         code\u001b[39m=\u001b[39m(ret\u001b[39m.\u001b[39mget(\u001b[39m\"\u001b[39m\u001b[39mcode\u001b[39m\u001b[39m\"\u001b[39m, \u001b[39m\"\u001b[39m\u001b[39mN/A\u001b[39m\u001b[39m\"\u001b[39m))\n\u001b[0;32m    744\u001b[0m     )\n\u001b[0;32m    745\u001b[0m )\n",
      "File \u001b[1;32mc:\\Users\\HP\\anaconda3\\envs\\llm-bootcamp\\lib\\site-packages\\snowflake\\connector\\network.py:849\u001b[0m, in \u001b[0;36mSnowflakeRestful.fetch\u001b[1;34m(self, method, full_url, headers, data, timeout, **kwargs)\u001b[0m\n\u001b[0;32m    848\u001b[0m \u001b[39mwhile\u001b[39;00m \u001b[39mTrue\u001b[39;00m:\n\u001b[1;32m--> 849\u001b[0m     ret \u001b[39m=\u001b[39m \u001b[39mself\u001b[39m\u001b[39m.\u001b[39m_request_exec_wrapper(\n\u001b[0;32m    850\u001b[0m         session, method, full_url, headers, data, retry_ctx, \u001b[39m*\u001b[39m\u001b[39m*\u001b[39mkwargs\n\u001b[0;32m    851\u001b[0m     )\n\u001b[0;32m    852\u001b[0m     \u001b[39mif\u001b[39;00m ret \u001b[39mis\u001b[39;00m \u001b[39mnot\u001b[39;00m \u001b[39mNone\u001b[39;00m:\n",
      "File \u001b[1;32mc:\\Users\\HP\\anaconda3\\envs\\llm-bootcamp\\lib\\site-packages\\snowflake\\connector\\network.py:987\u001b[0m, in \u001b[0;36mSnowflakeRestful._request_exec_wrapper\u001b[1;34m(self, session, method, full_url, headers, data, retry_ctx, no_retry, token, **kwargs)\u001b[0m\n\u001b[0;32m    986\u001b[0m \u001b[39mif\u001b[39;00m \u001b[39mnot\u001b[39;00m no_retry:\n\u001b[1;32m--> 987\u001b[0m     \u001b[39mraise\u001b[39;00m e\n\u001b[0;32m    988\u001b[0m logger\u001b[39m.\u001b[39mdebug(\u001b[39m\"\u001b[39m\u001b[39mIgnored error\u001b[39m\u001b[39m\"\u001b[39m, exc_info\u001b[39m=\u001b[39m\u001b[39mTrue\u001b[39;00m)\n",
      "File \u001b[1;32mc:\\Users\\HP\\anaconda3\\envs\\llm-bootcamp\\lib\\site-packages\\snowflake\\connector\\network.py:891\u001b[0m, in \u001b[0;36mSnowflakeRestful._request_exec_wrapper\u001b[1;34m(self, session, method, full_url, headers, data, retry_ctx, no_retry, token, **kwargs)\u001b[0m\n\u001b[0;32m    890\u001b[0m \u001b[39mtry\u001b[39;00m:\n\u001b[1;32m--> 891\u001b[0m     return_object \u001b[39m=\u001b[39m \u001b[39mself\u001b[39m\u001b[39m.\u001b[39m_request_exec(\n\u001b[0;32m    892\u001b[0m         session\u001b[39m=\u001b[39msession,\n\u001b[0;32m    893\u001b[0m         method\u001b[39m=\u001b[39mmethod,\n\u001b[0;32m    894\u001b[0m         full_url\u001b[39m=\u001b[39mfull_url,\n\u001b[0;32m    895\u001b[0m         headers\u001b[39m=\u001b[39mheaders,\n\u001b[0;32m    896\u001b[0m         data\u001b[39m=\u001b[39mdata,\n\u001b[0;32m    897\u001b[0m         token\u001b[39m=\u001b[39mtoken,\n\u001b[0;32m    898\u001b[0m         \u001b[39m*\u001b[39m\u001b[39m*\u001b[39mkwargs,\n\u001b[0;32m    899\u001b[0m     )\n\u001b[0;32m    900\u001b[0m     \u001b[39mif\u001b[39;00m return_object \u001b[39mis\u001b[39;00m \u001b[39mnot\u001b[39;00m \u001b[39mNone\u001b[39;00m:\n",
      "File \u001b[1;32mc:\\Users\\HP\\anaconda3\\envs\\llm-bootcamp\\lib\\site-packages\\snowflake\\connector\\network.py:1168\u001b[0m, in \u001b[0;36mSnowflakeRestful._request_exec\u001b[1;34m(self, session, method, full_url, headers, data, token, catch_okta_unauthorized_error, is_raw_text, is_raw_binary, binary_data_handler, socket_timeout, is_okta_authentication)\u001b[0m\n\u001b[0;32m   1163\u001b[0m     logger\u001b[39m.\u001b[39mdebug(\n\u001b[0;32m   1164\u001b[0m         \u001b[39m\"\u001b[39m\u001b[39mHit a timeout error while logging in. Will be handled by \u001b[39m\u001b[39m\"\u001b[39m\n\u001b[0;32m   1165\u001b[0m         \u001b[39mf\u001b[39m\u001b[39m\"\u001b[39m\u001b[39mauthenticator. Ignore the following. Error stack: \u001b[39m\u001b[39m{\u001b[39;00merr\u001b[39m}\u001b[39;00m\u001b[39m\"\u001b[39m,\n\u001b[0;32m   1166\u001b[0m         exc_info\u001b[39m=\u001b[39m\u001b[39mTrue\u001b[39;00m,\n\u001b[0;32m   1167\u001b[0m     )\n\u001b[1;32m-> 1168\u001b[0m     \u001b[39mraise\u001b[39;00m OperationalError(\n\u001b[0;32m   1169\u001b[0m         msg\u001b[39m=\u001b[39m\u001b[39m\"\u001b[39m\u001b[39mConnectionTimeout occurred. Will be handled by authenticator\u001b[39m\u001b[39m\"\u001b[39m,\n\u001b[0;32m   1170\u001b[0m         errno\u001b[39m=\u001b[39mER_CONNECTION_TIMEOUT,\n\u001b[0;32m   1171\u001b[0m     )\n\u001b[0;32m   1172\u001b[0m \u001b[39melse\u001b[39;00m:\n",
      "\u001b[1;31mOperationalError\u001b[0m: 251011: ConnectionTimeout occurred. Will be handled by authenticator",
      "\nThe above exception was the direct cause of the following exception:\n",
      "\u001b[1;31mOperationalError\u001b[0m                          Traceback (most recent call last)",
      "\u001b[1;32mc:\\Users\\HP\\Desktop\\LLM_Boot_Camp\\llm-bootcamp-build-2023\\day1\\llm-day1-notebook.ipynb Cell 9\u001b[0m line \u001b[0;36m3\n\u001b[0;32m      <a href='vscode-notebook-cell:/c%3A/Users/HP/Desktop/LLM_Boot_Camp/llm-bootcamp-build-2023/day1/llm-day1-notebook.ipynb#X11sZmlsZQ%3D%3D?line=0'>1</a>\u001b[0m \u001b[39m# Create Snowflake Session object\u001b[39;00m\n\u001b[0;32m      <a href='vscode-notebook-cell:/c%3A/Users/HP/Desktop/LLM_Boot_Camp/llm-bootcamp-build-2023/day1/llm-day1-notebook.ipynb#X11sZmlsZQ%3D%3D?line=1'>2</a>\u001b[0m connection_parameters \u001b[39m=\u001b[39m json\u001b[39m.\u001b[39mload(\u001b[39mopen\u001b[39m(\u001b[39m'\u001b[39m\u001b[39mconnection.json\u001b[39m\u001b[39m'\u001b[39m))\n\u001b[1;32m----> <a href='vscode-notebook-cell:/c%3A/Users/HP/Desktop/LLM_Boot_Camp/llm-bootcamp-build-2023/day1/llm-day1-notebook.ipynb#X11sZmlsZQ%3D%3D?line=2'>3</a>\u001b[0m session \u001b[39m=\u001b[39m Session\u001b[39m.\u001b[39;49mbuilder\u001b[39m.\u001b[39;49mconfigs(connection_parameters)\u001b[39m.\u001b[39;49mcreate()\n\u001b[0;32m      <a href='vscode-notebook-cell:/c%3A/Users/HP/Desktop/LLM_Boot_Camp/llm-bootcamp-build-2023/day1/llm-day1-notebook.ipynb#X11sZmlsZQ%3D%3D?line=3'>4</a>\u001b[0m session\u001b[39m.\u001b[39msql_simplifier_enabled \u001b[39m=\u001b[39m \u001b[39mTrue\u001b[39;00m\n\u001b[0;32m      <a href='vscode-notebook-cell:/c%3A/Users/HP/Desktop/LLM_Boot_Camp/llm-bootcamp-build-2023/day1/llm-day1-notebook.ipynb#X11sZmlsZQ%3D%3D?line=5'>6</a>\u001b[0m snowflake_environment \u001b[39m=\u001b[39m session\u001b[39m.\u001b[39msql(\u001b[39m'\u001b[39m\u001b[39mselect current_user(), current_version()\u001b[39m\u001b[39m'\u001b[39m)\u001b[39m.\u001b[39mcollect()\n",
      "File \u001b[1;32mc:\\Users\\HP\\anaconda3\\envs\\llm-bootcamp\\lib\\site-packages\\snowflake\\snowpark\\session.py:315\u001b[0m, in \u001b[0;36mSession.SessionBuilder.create\u001b[1;34m(self)\u001b[0m\n\u001b[0;32m    313\u001b[0m \u001b[39mdef\u001b[39;00m \u001b[39mcreate\u001b[39m(\u001b[39mself\u001b[39m) \u001b[39m-\u001b[39m\u001b[39m>\u001b[39m \u001b[39m\"\u001b[39m\u001b[39mSession\u001b[39m\u001b[39m\"\u001b[39m:\n\u001b[0;32m    314\u001b[0m \u001b[39m    \u001b[39m\u001b[39m\"\"\"Creates a new Session.\"\"\"\u001b[39;00m\n\u001b[1;32m--> 315\u001b[0m     session \u001b[39m=\u001b[39m \u001b[39mself\u001b[39;49m\u001b[39m.\u001b[39;49m_create_internal(\u001b[39mself\u001b[39;49m\u001b[39m.\u001b[39;49m_options\u001b[39m.\u001b[39;49mget(\u001b[39m\"\u001b[39;49m\u001b[39mconnection\u001b[39;49m\u001b[39m\"\u001b[39;49m))\n\u001b[0;32m    316\u001b[0m     \u001b[39mreturn\u001b[39;00m session\n",
      "File \u001b[1;32mc:\\Users\\HP\\anaconda3\\envs\\llm-bootcamp\\lib\\site-packages\\snowflake\\snowpark\\session.py:344\u001b[0m, in \u001b[0;36mSession.SessionBuilder._create_internal\u001b[1;34m(self, conn)\u001b[0m\n\u001b[0;32m    341\u001b[0m \u001b[39mif\u001b[39;00m \u001b[39m\"\u001b[39m\u001b[39mparamstyle\u001b[39m\u001b[39m\"\u001b[39m \u001b[39mnot\u001b[39;00m \u001b[39min\u001b[39;00m \u001b[39mself\u001b[39m\u001b[39m.\u001b[39m_options:\n\u001b[0;32m    342\u001b[0m     \u001b[39mself\u001b[39m\u001b[39m.\u001b[39m_options[\u001b[39m\"\u001b[39m\u001b[39mparamstyle\u001b[39m\u001b[39m\"\u001b[39m] \u001b[39m=\u001b[39m \u001b[39m\"\u001b[39m\u001b[39mqmark\u001b[39m\u001b[39m\"\u001b[39m\n\u001b[0;32m    343\u001b[0m new_session \u001b[39m=\u001b[39m Session(\n\u001b[1;32m--> 344\u001b[0m     ServerConnection({}, conn) \u001b[39mif\u001b[39;00m conn \u001b[39melse\u001b[39;00m ServerConnection(\u001b[39mself\u001b[39;49m\u001b[39m.\u001b[39;49m_options),\n\u001b[0;32m    345\u001b[0m     \u001b[39mself\u001b[39m\u001b[39m.\u001b[39m_options,\n\u001b[0;32m    346\u001b[0m )\n\u001b[0;32m    348\u001b[0m \u001b[39mif\u001b[39;00m \u001b[39m\"\u001b[39m\u001b[39mpassword\u001b[39m\u001b[39m\"\u001b[39m \u001b[39min\u001b[39;00m \u001b[39mself\u001b[39m\u001b[39m.\u001b[39m_options:\n\u001b[0;32m    349\u001b[0m     \u001b[39mself\u001b[39m\u001b[39m.\u001b[39m_options[\u001b[39m\"\u001b[39m\u001b[39mpassword\u001b[39m\u001b[39m\"\u001b[39m] \u001b[39m=\u001b[39m \u001b[39mNone\u001b[39;00m\n",
      "File \u001b[1;32mc:\\Users\\HP\\anaconda3\\envs\\llm-bootcamp\\lib\\site-packages\\snowflake\\snowpark\\_internal\\server_connection.py:136\u001b[0m, in \u001b[0;36mServerConnection.__init__\u001b[1;34m(self, options, conn)\u001b[0m\n\u001b[0;32m    134\u001b[0m \u001b[39mself\u001b[39m\u001b[39m.\u001b[39m_lower_case_parameters \u001b[39m=\u001b[39m {k\u001b[39m.\u001b[39mlower(): v \u001b[39mfor\u001b[39;00m k, v \u001b[39min\u001b[39;00m options\u001b[39m.\u001b[39mitems()}\n\u001b[0;32m    135\u001b[0m \u001b[39mself\u001b[39m\u001b[39m.\u001b[39m_add_application_name()\n\u001b[1;32m--> 136\u001b[0m \u001b[39mself\u001b[39m\u001b[39m.\u001b[39m_conn \u001b[39m=\u001b[39m conn \u001b[39mif\u001b[39;00m conn \u001b[39melse\u001b[39;00m connect(\u001b[39m*\u001b[39m\u001b[39m*\u001b[39m\u001b[39mself\u001b[39m\u001b[39m.\u001b[39m_lower_case_parameters)\n\u001b[0;32m    137\u001b[0m \u001b[39mif\u001b[39;00m \u001b[39m\"\u001b[39m\u001b[39mpassword\u001b[39m\u001b[39m\"\u001b[39m \u001b[39min\u001b[39;00m \u001b[39mself\u001b[39m\u001b[39m.\u001b[39m_lower_case_parameters:\n\u001b[0;32m    138\u001b[0m     \u001b[39mself\u001b[39m\u001b[39m.\u001b[39m_lower_case_parameters[\u001b[39m\"\u001b[39m\u001b[39mpassword\u001b[39m\u001b[39m\"\u001b[39m] \u001b[39m=\u001b[39m \u001b[39mNone\u001b[39;00m\n",
      "File \u001b[1;32mc:\\Users\\HP\\anaconda3\\envs\\llm-bootcamp\\lib\\site-packages\\snowflake\\connector\\__init__.py:54\u001b[0m, in \u001b[0;36mConnect\u001b[1;34m(**kwargs)\u001b[0m\n\u001b[0;32m     52\u001b[0m \u001b[39m@wraps\u001b[39m(SnowflakeConnection\u001b[39m.\u001b[39m\u001b[39m__init__\u001b[39m)\n\u001b[0;32m     53\u001b[0m \u001b[39mdef\u001b[39;00m \u001b[39mConnect\u001b[39m(\u001b[39m*\u001b[39m\u001b[39m*\u001b[39mkwargs) \u001b[39m-\u001b[39m\u001b[39m>\u001b[39m SnowflakeConnection:\n\u001b[1;32m---> 54\u001b[0m     \u001b[39mreturn\u001b[39;00m SnowflakeConnection(\u001b[39m*\u001b[39m\u001b[39m*\u001b[39mkwargs)\n",
      "File \u001b[1;32mc:\\Users\\HP\\anaconda3\\envs\\llm-bootcamp\\lib\\site-packages\\snowflake\\connector\\connection.py:372\u001b[0m, in \u001b[0;36mSnowflakeConnection.__init__\u001b[1;34m(self, connection_name, connections_file_path, **kwargs)\u001b[0m\n\u001b[0;32m    370\u001b[0m     kwargs \u001b[39m=\u001b[39m _get_default_connection_params()\n\u001b[0;32m    371\u001b[0m \u001b[39mself\u001b[39m\u001b[39m.\u001b[39m__set_error_attributes()\n\u001b[1;32m--> 372\u001b[0m \u001b[39mself\u001b[39m\u001b[39m.\u001b[39mconnect(\u001b[39m*\u001b[39m\u001b[39m*\u001b[39mkwargs)\n\u001b[0;32m    373\u001b[0m \u001b[39mself\u001b[39m\u001b[39m.\u001b[39m_telemetry \u001b[39m=\u001b[39m TelemetryClient(\u001b[39mself\u001b[39m\u001b[39m.\u001b[39m_rest)\n\u001b[0;32m    375\u001b[0m \u001b[39m# get the imported modules from sys.modules\u001b[39;00m\n",
      "File \u001b[1;32mc:\\Users\\HP\\anaconda3\\envs\\llm-bootcamp\\lib\\site-packages\\snowflake\\connector\\connection.py:644\u001b[0m, in \u001b[0;36mSnowflakeConnection.connect\u001b[1;34m(self, **kwargs)\u001b[0m\n\u001b[0;32m    642\u001b[0m         connection_diag\u001b[39m.\u001b[39mgenerate_report()\n\u001b[0;32m    643\u001b[0m \u001b[39melse\u001b[39;00m:\n\u001b[1;32m--> 644\u001b[0m     \u001b[39mself\u001b[39;49m\u001b[39m.\u001b[39;49m__open_connection()\n",
      "File \u001b[1;32mc:\\Users\\HP\\anaconda3\\envs\\llm-bootcamp\\lib\\site-packages\\snowflake\\connector\\connection.py:917\u001b[0m, in \u001b[0;36mSnowflakeConnection.__open_connection\u001b[1;34m(self)\u001b[0m\n\u001b[0;32m    913\u001b[0m \u001b[39melse\u001b[39;00m:\n\u001b[0;32m    914\u001b[0m     \u001b[39m# okta URL, e.g., https://<account>.okta.com/\u001b[39;00m\n\u001b[0;32m    915\u001b[0m     \u001b[39mself\u001b[39m\u001b[39m.\u001b[39mauth_class \u001b[39m=\u001b[39m AuthByOkta(application\u001b[39m=\u001b[39m\u001b[39mself\u001b[39m\u001b[39m.\u001b[39mapplication)\n\u001b[1;32m--> 917\u001b[0m \u001b[39mself\u001b[39;49m\u001b[39m.\u001b[39;49mauthenticate_with_retry(\u001b[39mself\u001b[39;49m\u001b[39m.\u001b[39;49mauth_class)\n\u001b[0;32m    919\u001b[0m \u001b[39mself\u001b[39m\u001b[39m.\u001b[39m_password \u001b[39m=\u001b[39m \u001b[39mNone\u001b[39;00m  \u001b[39m# ensure password won't persist\u001b[39;00m\n\u001b[0;32m    920\u001b[0m \u001b[39mself\u001b[39m\u001b[39m.\u001b[39mauth_class\u001b[39m.\u001b[39mreset_secrets()\n",
      "File \u001b[1;32mc:\\Users\\HP\\anaconda3\\envs\\llm-bootcamp\\lib\\site-packages\\snowflake\\connector\\connection.py:1186\u001b[0m, in \u001b[0;36mSnowflakeConnection.authenticate_with_retry\u001b[1;34m(self, auth_instance)\u001b[0m\n\u001b[0;32m   1183\u001b[0m \u001b[39mdef\u001b[39;00m \u001b[39mauthenticate_with_retry\u001b[39m(\u001b[39mself\u001b[39m, auth_instance) \u001b[39m-\u001b[39m\u001b[39m>\u001b[39m \u001b[39mNone\u001b[39;00m:\n\u001b[0;32m   1184\u001b[0m     \u001b[39m# make some changes if needed before real __authenticate\u001b[39;00m\n\u001b[0;32m   1185\u001b[0m     \u001b[39mtry\u001b[39;00m:\n\u001b[1;32m-> 1186\u001b[0m         \u001b[39mself\u001b[39;49m\u001b[39m.\u001b[39;49m_authenticate(auth_instance)\n\u001b[0;32m   1187\u001b[0m     \u001b[39mexcept\u001b[39;00m ReauthenticationRequest \u001b[39mas\u001b[39;00m ex:\n\u001b[0;32m   1188\u001b[0m         \u001b[39m# cached id_token expiration error, we have cleaned id_token and try to authenticate again\u001b[39;00m\n\u001b[0;32m   1189\u001b[0m         logger\u001b[39m.\u001b[39mdebug(\u001b[39m\"\u001b[39m\u001b[39mID token expired. Reauthenticating...: \u001b[39m\u001b[39m%s\u001b[39;00m\u001b[39m\"\u001b[39m, ex)\n",
      "File \u001b[1;32mc:\\Users\\HP\\anaconda3\\envs\\llm-bootcamp\\lib\\site-packages\\snowflake\\connector\\connection.py:1257\u001b[0m, in \u001b[0;36mSnowflakeConnection._authenticate\u001b[1;34m(self, auth_instance)\u001b[0m\n\u001b[0;32m   1255\u001b[0m \u001b[39mexcept\u001b[39;00m OperationalError \u001b[39mas\u001b[39;00m auth_op:\n\u001b[0;32m   1256\u001b[0m     \u001b[39mif\u001b[39;00m auth_op\u001b[39m.\u001b[39merrno \u001b[39m==\u001b[39m ER_FAILED_TO_CONNECT_TO_DB:\n\u001b[1;32m-> 1257\u001b[0m         \u001b[39mraise\u001b[39;00m auth_op \u001b[39mfrom\u001b[39;00m \u001b[39me\u001b[39;00m\n\u001b[0;32m   1258\u001b[0m     logger\u001b[39m.\u001b[39mdebug(\u001b[39m\"\u001b[39m\u001b[39mContinuing authenticator specific timeout handling\u001b[39m\u001b[39m\"\u001b[39m)\n\u001b[0;32m   1259\u001b[0m     \u001b[39mcontinue\u001b[39;00m\n",
      "File \u001b[1;32mc:\\Users\\HP\\anaconda3\\envs\\llm-bootcamp\\lib\\site-packages\\snowflake\\connector\\connection.py:1234\u001b[0m, in \u001b[0;36mSnowflakeConnection._authenticate\u001b[1;34m(self, auth_instance)\u001b[0m\n\u001b[0;32m   1232\u001b[0m \u001b[39mwhile\u001b[39;00m \u001b[39mTrue\u001b[39;00m:\n\u001b[0;32m   1233\u001b[0m     \u001b[39mtry\u001b[39;00m:\n\u001b[1;32m-> 1234\u001b[0m         auth_instance\u001b[39m.\u001b[39;49mhandle_timeout(\n\u001b[0;32m   1235\u001b[0m             authenticator\u001b[39m=\u001b[39;49m\u001b[39mself\u001b[39;49m\u001b[39m.\u001b[39;49m_authenticator,\n\u001b[0;32m   1236\u001b[0m             service_name\u001b[39m=\u001b[39;49m\u001b[39mself\u001b[39;49m\u001b[39m.\u001b[39;49mservice_name,\n\u001b[0;32m   1237\u001b[0m             account\u001b[39m=\u001b[39;49m\u001b[39mself\u001b[39;49m\u001b[39m.\u001b[39;49maccount,\n\u001b[0;32m   1238\u001b[0m             user\u001b[39m=\u001b[39;49m\u001b[39mself\u001b[39;49m\u001b[39m.\u001b[39;49muser,\n\u001b[0;32m   1239\u001b[0m             password\u001b[39m=\u001b[39;49m\u001b[39mself\u001b[39;49m\u001b[39m.\u001b[39;49m_password,\n\u001b[0;32m   1240\u001b[0m         )\n\u001b[0;32m   1241\u001b[0m         auth\u001b[39m.\u001b[39mauthenticate(\n\u001b[0;32m   1242\u001b[0m             auth_instance\u001b[39m=\u001b[39mauth_instance,\n\u001b[0;32m   1243\u001b[0m             account\u001b[39m=\u001b[39m\u001b[39mself\u001b[39m\u001b[39m.\u001b[39maccount,\n\u001b[1;32m   (...)\u001b[0m\n\u001b[0;32m   1253\u001b[0m             session_parameters\u001b[39m=\u001b[39m\u001b[39mself\u001b[39m\u001b[39m.\u001b[39m_session_parameters,\n\u001b[0;32m   1254\u001b[0m         )\n\u001b[0;32m   1255\u001b[0m     \u001b[39mexcept\u001b[39;00m OperationalError \u001b[39mas\u001b[39;00m auth_op:\n",
      "File \u001b[1;32mc:\\Users\\HP\\anaconda3\\envs\\llm-bootcamp\\lib\\site-packages\\snowflake\\connector\\auth\\by_plugin.py:219\u001b[0m, in \u001b[0;36mAuthByPlugin.handle_timeout\u001b[1;34m(***failed resolving arguments***)\u001b[0m\n\u001b[0;32m    213\u001b[0m     error \u001b[39m=\u001b[39m OperationalError(\n\u001b[0;32m    214\u001b[0m         msg\u001b[39m=\u001b[39m\u001b[39mf\u001b[39m\u001b[39m\"\u001b[39m\u001b[39mCould not connect to Snowflake backend after \u001b[39m\u001b[39m{\u001b[39;00m\u001b[39mself\u001b[39m\u001b[39m.\u001b[39m_retry_ctx\u001b[39m.\u001b[39mget_current_retry_count()\u001b[39m}\u001b[39;00m\u001b[39m attempt(s).\u001b[39m\u001b[39m\"\u001b[39m\n\u001b[0;32m    215\u001b[0m         \u001b[39m\"\u001b[39m\u001b[39mAborting\u001b[39m\u001b[39m\"\u001b[39m,\n\u001b[0;32m    216\u001b[0m         errno\u001b[39m=\u001b[39mER_FAILED_TO_CONNECT_TO_DB,\n\u001b[0;32m    217\u001b[0m     )\n\u001b[0;32m    218\u001b[0m     \u001b[39mself\u001b[39m\u001b[39m.\u001b[39m_retry_ctx\u001b[39m.\u001b[39mreset()\n\u001b[1;32m--> 219\u001b[0m     \u001b[39mraise\u001b[39;00m error\n\u001b[0;32m    220\u001b[0m \u001b[39melse\u001b[39;00m:\n\u001b[0;32m    221\u001b[0m     logger\u001b[39m.\u001b[39mdebug(\n\u001b[0;32m    222\u001b[0m         \u001b[39mf\u001b[39m\u001b[39m\"\u001b[39m\u001b[39mHit connection timeout, attempt number \u001b[39m\u001b[39m{\u001b[39;00m\u001b[39mself\u001b[39m\u001b[39m.\u001b[39m_retry_ctx\u001b[39m.\u001b[39mget_current_retry_count()\u001b[39m}\u001b[39;00m\u001b[39m.\u001b[39m\u001b[39m\"\u001b[39m\n\u001b[0;32m    223\u001b[0m         \u001b[39m\"\u001b[39m\u001b[39m Will retry in a bit...\u001b[39m\u001b[39m\"\u001b[39m\n\u001b[0;32m    224\u001b[0m     )\n",
      "\u001b[1;31mOperationalError\u001b[0m: 250001: Could not connect to Snowflake backend after 1 attempt(s).Aborting"
     ]
    }
   ],
   "source": [
    "# Create Snowflake Session object\n",
    "connection_parameters = json.load(open('connection.json'))\n",
    "session = Session.builder.configs(connection_parameters).create()\n",
    "session.sql_simplifier_enabled = True\n",
    "\n",
    "snowflake_environment = session.sql('select current_user(), current_version()').collect()\n",
    "snowpark_version = VERSION\n",
    "\n",
    "# Current Environment Details\n",
    "print('User                        : {}'.format(snowflake_environment[0][0]))\n",
    "print('Role                        : {}'.format(session.get_current_role()))\n",
    "print('Database                    : {}'.format(session.get_current_database()))\n",
    "print('Schema                      : {}'.format(session.get_current_schema()))\n",
    "print('Warehouse                   : {}'.format(session.get_current_warehouse()))\n",
    "print('Snowflake version           : {}'.format(snowflake_environment[0][1]))\n",
    "print('Snowpark for Python version : {}.{}.{}'.format(snowpark_version[0],snowpark_version[1],snowpark_version[2]))"
   ]
  },
  {
   "cell_type": "markdown",
   "metadata": {},
   "source": [
    "### Reference Llama 2 from Huggingface"
   ]
  },
  {
   "cell_type": "code",
   "execution_count": 6,
   "metadata": {},
   "outputs": [
    {
     "name": "stderr",
     "output_type": "stream",
     "text": [
      "c:\\Users\\HP\\anaconda3\\envs\\llm-bootcamp\\lib\\site-packages\\tqdm\\auto.py:21: TqdmWarning: IProgress not found. Please update jupyter and ipywidgets. See https://ipywidgets.readthedocs.io/en/stable/user_install.html\n",
      "  from .autonotebook import tqdm as notebook_tqdm\n",
      "None of PyTorch, TensorFlow >= 2.0, or Flax have been found. Models won't be available and only tokenizers, configuration and file/data utilities can be used.\n",
      "Downloading config.json: 100%|██████████| 614/614 [00:00<?, ?B/s] \n",
      "c:\\Users\\HP\\anaconda3\\envs\\llm-bootcamp\\lib\\site-packages\\huggingface_hub\\file_download.py:137: UserWarning: `huggingface_hub` cache-system uses symlinks by default to efficiently store duplicated files but your machine does not support them in C:\\Users\\HP\\.cache\\huggingface\\hub. Caching files will still work but in a degraded version that might require more space on your disk. This warning can be disabled by setting the `HF_HUB_DISABLE_SYMLINKS_WARNING` environment variable. For more details, see https://huggingface.co/docs/huggingface_hub/how-to-cache#limitations.\n",
      "To support symlinks on Windows, you either need to activate Developer Mode or to run Python as an administrator. In order to see activate developer mode, see this article: https://docs.microsoft.com/en-us/windows/apps/get-started/enable-your-device-for-development\n",
      "  warnings.warn(message)\n"
     ]
    }
   ],
   "source": [
    "options = llm.LLMOptions(\n",
    "    token=connection_parameters['huggingface_token'],\n",
    "    max_batch_size=100,\n",
    ")\n",
    "llama_model = llm.LLM(\n",
    "    model_id_or_path=\"meta-llama/Llama-2-7b-chat-hf\",\n",
    "    options=options\n",
    ")"
   ]
  },
  {
   "cell_type": "markdown",
   "metadata": {},
   "source": [
    "### Register, Log and Deploy Llama 2 into Snowpark Container Services \n",
    "\n",
    "*NOTE: Logging and deploying the same model are one time operations. Once the model is logged and deployed, use ModeReference to get the reference to the model.*"
   ]
  },
  {
   "cell_type": "code",
   "execution_count": null,
   "metadata": {},
   "outputs": [],
   "source": [
    "MODEL_NAME    = \"LLAMA2_7b_CHAT\"\n",
    "MODEL_VERSION = \"NewBaseV2.0\"\n",
    "MODEL_REGISTRY_DB = connection_parameters['database']\n",
    "MODEL_REGISTRY_SCHEMA = connection_parameters['schema']\n",
    "COMPUTE_POOL = connection_parameters['compute_pool']\n",
    "\n",
    "registry = model_registry.ModelRegistry(\n",
    "    session=session, \n",
    "    database_name=MODEL_REGISTRY_DB, \n",
    "    schema_name=MODEL_REGISTRY_SCHEMA, \n",
    "    create_if_not_exists=True)\n",
    "\n",
    "llama_model_ref = registry.log_model(\n",
    "    model_name=MODEL_NAME,\n",
    "    model_version=MODEL_VERSION,\n",
    "    model=llama_model\n",
    ")"
   ]
  },
  {
   "cell_type": "markdown",
   "metadata": {},
   "source": [
    "*Note: Deploying model for the first time can take ~25-30mins*"
   ]
  },
  {
   "cell_type": "code",
   "execution_count": null,
   "metadata": {},
   "outputs": [],
   "source": [
    "%%time\n",
    "# Optionally enable INFO log level\n",
    "import logging\n",
    "logging.basicConfig()\n",
    "logging.getLogger().setLevel(logging.INFO)\n",
    "\n",
    "llama_model_ref.deploy(\n",
    "    deployment_name=\"llama_predict\", \n",
    "    platform=deploy_platforms.TargetPlatform.SNOWPARK_CONTAINER_SERVICES,\n",
    "    permanent=True, \n",
    "    options={\"compute_pool\": COMPUTE_POOL, \"num_gpus\": 1})\n",
    "\n",
    "llama_model_ref = model_registry.ModelReference(registry=registry,model_name=MODEL_NAME,model_version=MODEL_VERSION)\n",
    "llama_model_ref"
   ]
  },
  {
   "cell_type": "markdown",
   "metadata": {},
   "source": [
    "### Load Data from JSON into Snowflake\n",
    "\n",
    "*NOTE: Reading data in JSON and storing it in a Snowflake table are one time operations. Once the data is loaded, use Snowpark to load the data from the existing table.*"
   ]
  },
  {
   "cell_type": "code",
   "execution_count": null,
   "metadata": {},
   "outputs": [],
   "source": [
    "df = pd.read_json(\"data/frosty_transcripts.json\",lines=True)\n",
    "sf_df = session.write_pandas(df,'frosty_transcripts',auto_create_table=True,quote_identifiers=False,overwrite=True)\n",
    "sf_df.to_pandas().head()"
   ]
  },
  {
   "cell_type": "markdown",
   "metadata": {},
   "source": [
    "### Simple Prompt Engineering Example\n",
    "\n",
    "For every transcript, define summarization instruction for the LLM"
   ]
  },
  {
   "cell_type": "code",
   "execution_count": null,
   "metadata": {},
   "outputs": [],
   "source": [
    "begin_prompt = \\\n",
    "\"\"\"\n",
    "[INST] Summarize this transcript in less than 200 words: \n",
    "\"\"\"\n",
    "end_prompt = \" [/INST]\"\n",
    "\n",
    "df_inputs = sf_df.with_column('\"input\"',F.concat_ws(F.lit(\" \"),F.lit(begin_prompt),F.col('transcript'),F.lit(end_prompt))).select('\"input\"')\n",
    "df_inputs.to_pandas().head()"
   ]
  },
  {
   "cell_type": "markdown",
   "metadata": {},
   "source": [
    "### Inference using Simple Prompt\n",
    "\n",
    "Pass the summariation instruction to the LLM and examine results of 10 records"
   ]
  },
  {
   "cell_type": "code",
   "execution_count": null,
   "metadata": {},
   "outputs": [],
   "source": [
    "df_predict_results = llama_model_ref.predict(deployment_name=\"llama_predict\",data=df_inputs)\n",
    "df_predict_results.select('\"input\"','\"generated_text\"').limit(5).to_pandas()"
   ]
  },
  {
   "cell_type": "markdown",
   "metadata": {},
   "source": [
    "### Complex Prompt Engineering and Inference Example\n",
    "\n",
    "For every transcript, define more specific instruction for the LLM\n",
    "\n",
    "*NOTE: In the results, notice that the output is not consistent across all transcripts. The base model failed to follow the instructions in many of the cases as seen below.*"
   ]
  },
  {
   "cell_type": "code",
   "execution_count": null,
   "metadata": {},
   "outputs": [],
   "source": [
    "sf_df = session.table('frosty_transcripts')\n",
    "\n",
    "begin_prompt = \\\n",
    "\"\"\"\n",
    "[INST] Extract location and list of toys in JSON format: \n",
    "\"\"\"\n",
    "end_prompt = \" [/INST]\"\n",
    "\n",
    "df_inputs = sf_df.with_column('\"input\"',F.concat_ws(F.lit(\" \"),F.lit(begin_prompt),F.col('transcript'),F.lit(end_prompt))).select('\"input\"')\n",
    "df_predict_results = llama_model_ref.predict(deployment_name=\"llama_predict\",data=df_inputs)\n",
    "df_predict_results.limit(10).to_pandas()"
   ]
  },
  {
   "cell_type": "markdown",
   "metadata": {},
   "source": [
    "# BUILD LLM Bootcamp Day 2 Preparation\n",
    "\n",
    "Follow the instructions below to prepare your environment for BUILD LLM Bootcamp Day 2. \n",
    "\n",
    "*NOTE:* These operations can take about ~45-60mins depending on your wireless connection.\n",
    "\n",
    "1) Open terminal window and browse to the folder where you have cloned the repository\n",
    "\n",
    "2) Change folder to *day2*\n",
    "\n",
    "3) Run command *`docker build --platform linux/amd64 -t llm-bootcamp .`*\n",
    "\n",
    "4) Once that image is built locally, run the following commands to push the image to Snowflake Registry\n",
    "    1) Replace ***YOUR_DB_NAME*** with the name of your DB and then run the following command\n",
    "\n",
    "        *`docker tag llm-bootcamp:latest sfsenorthamerica-build-spcs.registry.snowflakecomputing.com/YOUR_DB_NAME/schema_llm/image_repo/llm-bootcamp:latest`*\n",
    "    2) Run the following command and login using your BUILD LLM Bootcamp account username and password\n",
    "\n",
    "        *`docker login sfsenorthamerica-build-spcs.registry.snowflakecomputing.com`* \n",
    "        \n",
    "    3) Replace ***YOUR_DB_NAME*** with the name of your DB and then run \n",
    "    \n",
    "        *`docker push sfsenorthamerica-build-spcs.registry.snowflakecomputing.com/YOUR_DB_NAME/schema_llm/image_repo/llm-bootcamp:latest`*\n",
    "\n"
   ]
  },
  {
   "cell_type": "markdown",
   "metadata": {},
   "source": []
  }
 ],
 "metadata": {
  "kernelspec": {
   "display_name": "llm-bootcamp",
   "language": "python",
   "name": "python3"
  },
  "language_info": {
   "codemirror_mode": {
    "name": "ipython",
    "version": 3
   },
   "file_extension": ".py",
   "mimetype": "text/x-python",
   "name": "python",
   "nbconvert_exporter": "python",
   "pygments_lexer": "ipython3",
   "version": "3.9.18"
  }
 },
 "nbformat": 4,
 "nbformat_minor": 2
}
